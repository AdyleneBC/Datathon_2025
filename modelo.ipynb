{
 "cells": [
  {
   "cell_type": "code",
   "execution_count": 27,
   "id": "ff32f4c5",
   "metadata": {},
   "outputs": [
    {
     "name": "stdout",
     "output_type": "stream",
     "text": [
      "Dimensiones originales: (7328, 80)\n",
      "\n",
      "Columnas originales:\n",
      " ['euv', 'euv_caso', 'victima_sexo', 'victima_nacionalidad', 'victima_fecha_nacimiento', 'victima_edad', 'victima_estado_civil', 'victima_escolaridad', 'victima_ingreso_economico', 'victima_ocupacion', 'victima_pueblo_indigena', 'victima_migrante', 'victima_afrodescendiente', 'victima_orientacion_sexual', 'victima_identidad_genero', 'victima_vive_extranjero', 'victima_colonia', 'victima_localidad', 'victima_municipio', 'victima_entidad', 'victima_discapacidad', 'victima_discapacidad_por_violencia', 'victima_enfermedad_cronica', 'victima_padecimiento_psiquiatrico', 'victima_tipo_tratamiento', 'victima_embarazada', 'victima_caso_name', 'victima_servicio_medico', 'victima_situacion_calle', 'victima_adiccion', 'victima_dependientes', 'total_hijo_a', 'total_madre_padre', 'total_dependientes_otros', 'hecho_lugar_hechos', 'hecho_lugar_cual', 'hecho_domicilio_victima', 'hecho_extranjero_victima', 'hecho_localidad', 'hecho_municipio', 'hecho_entidad', 'hecho_colonia', 'hecho_fecha', 'hecho_hora', 'economica', 'patrimonial', 'sexual', 'fisica', 'psicologica', 'vicaria', 'feminicida', 'otra_violencia', 'detalle_violencia_otro', 'ambito_violencia', 'tipo_agresor_sexual', 'acoso_hostigamiento', 'hechos_victima_delincuencia_organizada', 'hechos_relacionada_orientacion_identidad', 'hechos_culmino_muerte', 'tipo_muerte', 'aborto', 'quemadura_corrosion', 'embarazo', 'intento_suicida', 'ideacion_suicida', 'arma_fuego', 'hechos_fecha_creacion', 'fecha_creacion_euv', 'usuario_euv_entidad', 'usuario_euv_municipio', 'usuario_euv_dependencia', 'usuario_euv_cargo', 'usuario_euv_prog_federal', 'usuario_hecho', 'usuario_hecho_entidad', 'usuario_hecho_municipio', 'usuario_hecho_dependencia', 'usuario_hecho_cargo', 'usuario_hecho_prog_federal', 'deleted_at']\n"
     ]
    },
    {
     "name": "stderr",
     "output_type": "stream",
     "text": [
      "C:\\Users\\ady_b\\AppData\\Local\\Temp\\ipykernel_15904\\2905225652.py:48: FutureWarning: errors='ignore' is deprecated and will raise in a future version. Use to_numeric without passing `errors` and catch exceptions explicitly instead\n",
      "  df[col] = pd.to_numeric(df[col], errors='ignore')\n"
     ]
    },
    {
     "name": "stdout",
     "output_type": "stream",
     "text": [
      "\n",
      "Dimensiones finales: (7323, 79)\n",
      "\n",
      "Valores nulos por columna:\n",
      " euv                           0\n",
      "euv_caso                      0\n",
      "victima_sexo                  0\n",
      "victima_nacionalidad          0\n",
      "victima_fecha_nacimiento      0\n",
      "                             ..\n",
      "usuario_hecho_entidad         0\n",
      "usuario_hecho_municipio       0\n",
      "usuario_hecho_dependencia     0\n",
      "usuario_hecho_cargo           0\n",
      "usuario_hecho_prog_federal    0\n",
      "Length: 79, dtype: int64\n",
      "\n",
      "Tipos finales de datos:\n",
      " euv                                   object\n",
      "euv_caso                              object\n",
      "victima_sexo                          object\n",
      "victima_nacionalidad                  object\n",
      "victima_fecha_nacimiento      datetime64[ns]\n",
      "                                   ...      \n",
      "usuario_hecho_entidad                 object\n",
      "usuario_hecho_municipio               object\n",
      "usuario_hecho_dependencia             object\n",
      "usuario_hecho_cargo                   object\n",
      "usuario_hecho_prog_federal            object\n",
      "Length: 79, dtype: object\n",
      "\n",
      "✅ Base de datos limpia guardada como 'copia_limpia_final.xlsx'\n"
     ]
    }
   ],
   "source": [
    "###############################################################\n",
    "# LIMPIEZA ROBUSTA DE BASE DE DATOS\n",
    "# Archivo: copia.xlsx\n",
    "# Autor: Adylene Baylon\n",
    "# Descripción: Limpieza avanzada y preparación de datos para análisis.\n",
    "###############################################################\n",
    "\n",
    "import pandas as pd\n",
    "import numpy as np\n",
    "import unicodedata\n",
    "\n",
    "# ==========================\n",
    "# 1️⃣ CARGA Y EXPLORACIÓN\n",
    "# ==========================\n",
    "df = pd.read_excel(\"copia.xlsx\")\n",
    "\n",
    "print(\"Dimensiones originales:\", df.shape)\n",
    "print(\"\\nColumnas originales:\\n\", list(df.columns))\n",
    "\n",
    "# ==========================\n",
    "# 2️⃣ NORMALIZACIÓN DE NOMBRES DE COLUMNAS\n",
    "# ==========================\n",
    "def normalizar_texto(texto):\n",
    "    if not isinstance(texto, str):\n",
    "        texto = str(texto)\n",
    "    texto = texto.strip().lower()\n",
    "    texto = ''.join(\n",
    "        c for c in unicodedata.normalize('NFKD', texto)\n",
    "        if not unicodedata.combining(c)\n",
    "    )\n",
    "    texto = texto.replace(' ', '_').replace('-', '_')\n",
    "    return texto\n",
    "\n",
    "df.columns = [normalizar_texto(col) for col in df.columns]\n",
    "\n",
    "# ==========================\n",
    "# 3️⃣ ELIMINAR DUPLICADOS Y COLUMNAS VACÍAS\n",
    "# ==========================\n",
    "df = df.drop_duplicates()\n",
    "df = df.dropna(axis=1, how='all')  # elimina columnas totalmente vacías\n",
    "\n",
    "# ==========================\n",
    "# 4️⃣ DETECCIÓN Y CONVERSIÓN AUTOMÁTICA DE TIPOS DE DATOS\n",
    "# ==========================\n",
    "for col in df.columns:\n",
    "    # Intentar convertir columnas a numéricas si es posible\n",
    "    try:\n",
    "        df[col] = pd.to_numeric(df[col], errors='ignore')\n",
    "    except:\n",
    "        pass\n",
    "\n",
    "# ==========================\n",
    "# 5️⃣ LIMPIEZA Y RELLENO DE NULOS\n",
    "# ==========================\n",
    "for col in df.columns:\n",
    "    if pd.api.types.is_numeric_dtype(df[col]):\n",
    "        # Si la columna es numérica\n",
    "        df[col] = df[col].fillna(0)\n",
    "        # Convertir a int si no hay decimales significativos\n",
    "        if (df[col] % 1 == 0).all():\n",
    "            df[col] = df[col].astype(int)\n",
    "    elif pd.api.types.is_datetime64_any_dtype(df[col]):\n",
    "        # Si es fecha → rellenar con la moda o fecha más común\n",
    "        moda_fecha = df[col].mode()\n",
    "        if not moda_fecha.empty:\n",
    "            df[col] = df[col].fillna(moda_fecha[0])\n",
    "    else:\n",
    "        # Si es texto → rellenar con \"Desconocido\"\n",
    "        df[col] = df[col].astype(str).str.strip().str.lower()\n",
    "        df[col] = df[col].replace(['nan', 'none', '', 'na'], 'desconocido')\n",
    "        df[col] = df[col].fillna('desconocido')\n",
    "\n",
    "# ==========================\n",
    "# 6️⃣ DETECCIÓN Y CORRECCIÓN DE FECHAS\n",
    "# ==========================\n",
    "for col in df.columns:\n",
    "    if \"fecha\" in col or \"date\" in col:\n",
    "        df[col] = pd.to_datetime(df[col], errors=\"coerce\")\n",
    "        # Rellenar nulos con la fecha más frecuente si existe\n",
    "        if df[col].notna().any():\n",
    "            df[col] = df[col].fillna(df[col].mode()[0])\n",
    "\n",
    "# ==========================\n",
    "# 7️⃣ CONTROL DE OUTLIERS (EDAD / AÑO)\n",
    "# ==========================\n",
    "if 'edad' in df.columns:\n",
    "    df = df[(df['edad'] >= 0) & (df['edad'] <= 120)]\n",
    "\n",
    "if 'anio' in df.columns:\n",
    "    df = df[(df['anio'] >= 2000) & (df['anio'] <= 2025)]\n",
    "\n",
    "# ==========================\n",
    "# 8️⃣ OPTIMIZACIÓN DE MEMORIA\n",
    "# ==========================\n",
    "for col in df.select_dtypes(include=['int', 'float']).columns:\n",
    "    df[col] = pd.to_numeric(df[col], downcast='integer')\n",
    "\n",
    "# ==========================\n",
    "# 9️⃣ REVISIÓN FINAL\n",
    "# ==========================\n",
    "print(\"\\nDimensiones finales:\", df.shape)\n",
    "print(\"\\nValores nulos por columna:\\n\", df.isnull().sum())\n",
    "print(\"\\nTipos finales de datos:\\n\", df.dtypes)\n",
    "\n",
    "# ==========================\n",
    "# 🔟 EXPORTAR RESULTADO FINAL\n",
    "# ==========================\n",
    "df.to_excel(\"casos.xlsx\", index=False)\n",
    "print(\"\\n✅ Base de datos limpia guardada como 'copia_limpia_final.xlsx'\")\n"
   ]
  },
  {
   "cell_type": "code",
   "execution_count": 28,
   "id": "34aab13d",
   "metadata": {},
   "outputs": [
    {
     "name": "stdout",
     "output_type": "stream",
     "text": [
      "Número de columnas después de limpieza: 55\n",
      "\n",
      "✅ Base de datos limpia guardada como 'copia_limpia_final.xlsx'\n"
     ]
    }
   ],
   "source": [
    "import pandas as pd\n",
    "import numpy as np\n",
    "import unicodedata\n",
    "\n",
    "# ==========================\n",
    "# 1️⃣ CARGA Y EXPLORACIÓN\n",
    "# ==========================\n",
    "df = pd.read_excel(\"casos.xlsx\")\n",
    "\n",
    "#Eliminar columnas con aportación mínima\n",
    "del df[\"victima_migrante\"]\n",
    "del df[\"victima_afrodescendiente\"]\n",
    "del df[\"victima_identidad_genero\"]\n",
    "del df[\"victima_vive_extranjero\"]\n",
    "del df[\"victima_colonia\"]\n",
    "del df[\"victima_localidad\"]\n",
    "del df[\"victima_discapacidad_por_violencia\"]\n",
    "del df[\"victima_enfermedad_cronica\"]\n",
    "del df[\"victima_padecimiento_psiquiatrico\"]\n",
    "del df[\"victima_tipo_tratamiento\"]\n",
    "del df[\"victima_embarazada\"]\n",
    "del df[\"victima_caso_name\"]\n",
    "del df[\"victima_situacion_calle\"]\n",
    "del df[\"victima_dependientes\"]\n",
    "del df[\"total_madre_padre\"]\n",
    "del df[\"total_dependientes_otros\"]\n",
    "del df[\"hecho_extranjero_victima\"]\n",
    "del df[\"hecho_colonia\"]\n",
    "del df[\"detalle_violencia_otro\"]\n",
    "del df[\"tipo_agresor_sexual\"]\n",
    "del df[\"acoso_hostigamiento\"]\n",
    "del df[\"hechos_culmino_muerte\"]\n",
    "del df[\"tipo_muerte\"]\n",
    "del df[\"aborto\"]\n",
    "#del df[\"quemadura_corrosion\"]\n",
    "#del df[\"usuario_hecho_entidad\"]\n",
    "#del df[\"deleted_at\"]\n",
    "\n",
    "\n",
    "# Después de la limpieza\n",
    "num_cols_despues = df.shape[1]\n",
    "print(f\"Número de columnas después de limpieza: {num_cols_despues}\")\n",
    "\n",
    "# ==========================\n",
    "# 🔟 EXPORTAR RESULTADO FINAL\n",
    "# ==========================\n",
    "df.to_excel(\"casos3.xlsx\", index=False)\n",
    "print(\"\\n✅ Base de datos limpia guardada como 'copia_limpia_final.xlsx'\")"
   ]
  },
  {
   "cell_type": "code",
   "execution_count": 17,
   "id": "ddea1d07",
   "metadata": {},
   "outputs": [
    {
     "name": "stdout",
     "output_type": "stream",
     "text": [
      "\n",
      "✅ Base de datos limpia guardada como 'copia_limpia_final.xlsx'\n"
     ]
    }
   ],
   "source": [
    "# Eliminar filas con más del 60% de \"desconocido\" o nulos\n",
    "umbral = 0.75\n",
    "df = df[df.apply(lambda fila: (fila == 'desconocido').mean() < umbral, axis=1)]\n",
    "\n",
    "# ==========================\n",
    "# 🔟 EXPORTAR RESULTADO FINAL\n",
    "# ==========================\n",
    "df.to_excel(\"casos2.xlsx\", index=False)\n",
    "print(\"\\n✅ Base de datos limpia guardada como 'copia_limpia_final.xlsx'\")"
   ]
  },
  {
   "cell_type": "code",
   "execution_count": 26,
   "id": "89cf021c",
   "metadata": {},
   "outputs": [
    {
     "name": "stdout",
     "output_type": "stream",
     "text": [
      "Número de registros: 7328\n"
     ]
    }
   ],
   "source": [
    "import pandas as pd\n",
    "\n",
    "# Carga la base\n",
    "df = pd.read_excel(\"copia.xlsx\")\n",
    "\n",
    "# Número de registros\n",
    "num_registros = len(df)\n",
    "print(\"Número de registros:\", num_registros)\n"
   ]
  },
  {
   "cell_type": "markdown",
   "id": "115a992a",
   "metadata": {},
   "source": [
    "**REGISTROS**\n",
    "calcula el tipo de dato y la fecuencia de cada uno"
   ]
  },
  {
   "cell_type": "code",
   "execution_count": 43,
   "id": "fd00ebcb",
   "metadata": {},
   "outputs": [
    {
     "name": "stdout",
     "output_type": "stream",
     "text": [
      "victima_edad\n",
      "0     1520\n",
      "29     203\n",
      "31     200\n",
      "35     186\n",
      "26     185\n",
      "      ... \n",
      "87       1\n",
      "85       1\n",
      "82       1\n",
      "81       1\n",
      "95       1\n",
      "Name: count, Length: 90, dtype: int64\n"
     ]
    },
    {
     "data": {
      "text/plain": [
       "dtype('int64')"
      ]
     },
     "execution_count": 43,
     "metadata": {},
     "output_type": "execute_result"
    }
   ],
   "source": [
    "import pandas as pd\n",
    "\n",
    "# Cargar la base de datos\n",
    "df = pd.read_excel(\"casos2.xlsx\")\n",
    "\n",
    "# Para una columna específica\n",
    "frecuencia_columna = df['victima_edad'].value_counts()\n",
    "print(frecuencia_columna)\n",
    "\n",
    "tipo = df[\"victima_edad\"].dtype\n",
    "\n",
    "tipo\n",
    "\n"
   ]
  },
  {
   "cell_type": "code",
   "execution_count": 36,
   "id": "b1e7f1c6",
   "metadata": {},
   "outputs": [],
   "source": [
    "import pandas as pd\n",
    "\n",
    "# Cargar el archivo Excel\n",
    "df = pd.read_excel(\"casos3.xlsx\")\n",
    "\n",
    "# Eliminar filas donde edad == 0 y estado_civil != \"desconocido\"\n",
    "df_filtrado = df[~((df[\"victima_edad\"] == 0) & (df[\"victima_estado_civil\"].str.lower() != \"desconocido\"))]\n",
    "\n",
    "# Guardar el resultado en un nuevo archivo\n",
    "df_filtrado.to_excel(\"casos2.xlsx\", index=False)\n"
   ]
  },
  {
   "cell_type": "code",
   "execution_count": null,
   "id": "db3f4db4",
   "metadata": {},
   "outputs": [],
   "source": []
  }
 ],
 "metadata": {
  "kernelspec": {
   "display_name": "Python 3",
   "language": "python",
   "name": "python3"
  },
  "language_info": {
   "codemirror_mode": {
    "name": "ipython",
    "version": 3
   },
   "file_extension": ".py",
   "mimetype": "text/x-python",
   "name": "python",
   "nbconvert_exporter": "python",
   "pygments_lexer": "ipython3",
   "version": "3.13.1"
  }
 },
 "nbformat": 4,
 "nbformat_minor": 5
}
